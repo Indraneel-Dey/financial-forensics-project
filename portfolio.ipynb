{
 "cells": [
  {
   "cell_type": "code",
   "execution_count": 12,
   "metadata": {},
   "outputs": [
    {
     "data": {
      "text/plain": [
       "Index(['Name', 'NSE Code', 'Industry', 'join_key'], dtype='object')"
      ]
     },
     "execution_count": 12,
     "metadata": {},
     "output_type": "execute_result"
    }
   ],
   "source": [
    "import pandas as pd\n",
    "import numpy as np\n",
    "\n",
    "stocks = pd.read_csv(\"stocks/stocks.csv\")\n",
    "stocks.select_dtypes(exclude=['int', 'float']).columns"
   ]
  },
  {
   "cell_type": "markdown",
   "metadata": {},
   "source": [
    "## Remove columns with more than 400 missing values"
   ]
  },
  {
   "cell_type": "code",
   "execution_count": 13,
   "metadata": {},
   "outputs": [
    {
     "data": {
      "text/plain": [
       "Name                                0\n",
       "BSE Code                            0\n",
       "NSE Code                            0\n",
       "Industry                            0\n",
       "Current Price 1                     1\n",
       "                                 ... \n",
       "NCAVPS                             38\n",
       "Market Capt to Cash Flow           46\n",
       "Altman Z Score                     39\n",
       "Market cap to quarterly profit    522\n",
       "Market Capitalization               0\n",
       "Length: 385, dtype: int64"
      ]
     },
     "execution_count": 13,
     "metadata": {},
     "output_type": "execute_result"
    }
   ],
   "source": [
    "stocks.isna().sum()"
   ]
  },
  {
   "cell_type": "code",
   "execution_count": 14,
   "metadata": {},
   "outputs": [],
   "source": [
    "missing_values = stocks.isna().sum()\n",
    "cols_to_drop = list(missing_values[missing_values > 400].index)\n",
    "stocks = stocks.drop(cols_to_drop, axis=1)"
   ]
  },
  {
   "cell_type": "markdown",
   "metadata": {},
   "source": [
    "## Remove rows with more than 20 missing values"
   ]
  },
  {
   "cell_type": "code",
   "execution_count": 15,
   "metadata": {},
   "outputs": [
    {
     "data": {
      "text/plain": [
       "0        0\n",
       "1        2\n",
       "2        0\n",
       "3        0\n",
       "4       32\n",
       "        ..\n",
       "4663     0\n",
       "4664     0\n",
       "4665     0\n",
       "4666     0\n",
       "4667     0\n",
       "Length: 4668, dtype: int64"
      ]
     },
     "execution_count": 15,
     "metadata": {},
     "output_type": "execute_result"
    }
   ],
   "source": [
    "stocks.isna().sum(axis=1)"
   ]
  },
  {
   "cell_type": "code",
   "execution_count": 16,
   "metadata": {},
   "outputs": [],
   "source": [
    "missing_values = stocks.isna().sum(axis=1)\n",
    "rows_to_drop = missing_values[missing_values > 20].index\n",
    "stocks = stocks.drop(rows_to_drop)"
   ]
  },
  {
   "cell_type": "markdown",
   "metadata": {},
   "source": [
    "## Take max of current price and mean of market cap since there are too many columns of both"
   ]
  },
  {
   "cell_type": "code",
   "execution_count": 17,
   "metadata": {},
   "outputs": [],
   "source": [
    "price_cols = [col for col in stocks.columns if col.startswith(\"Current Price\")]\n",
    "market_cap_cols = [col for col in stocks.columns if col.startswith(\"Market Capitalization\")]\n",
    "\n",
    "stocks['Current Price Final'] = stocks[price_cols].max(axis=1, skipna=True)\n",
    "stocks[\"Market Capitalization Final\"] = stocks[market_cap_cols].mean(axis=1, skipna=True)\n",
    "\n",
    "stocks.drop(price_cols + market_cap_cols, axis=1, inplace=True)\n",
    "stocks.rename(columns={\"Current Price Final\": \"Current Price\", \"Market Capitalization Final\": \"Market Capitalization\"}, inplace=True)"
   ]
  },
  {
   "cell_type": "markdown",
   "metadata": {},
   "source": [
    "## Save as preprocessed dataframe"
   ]
  },
  {
   "cell_type": "code",
   "execution_count": 18,
   "metadata": {},
   "outputs": [],
   "source": [
    "stocks.to_csv(\"stocks/stocks_cleaned.csv\", index=False)"
   ]
  },
  {
   "cell_type": "markdown",
   "metadata": {},
   "source": [
    "## Encode and impute"
   ]
  },
  {
   "cell_type": "code",
   "execution_count": 55,
   "metadata": {},
   "outputs": [],
   "source": [
    "from sklearn.preprocessing import LabelEncoder\n",
    "from sklearn.experimental import enable_iterative_imputer\n",
    "from sklearn.impute import IterativeImputer\n",
    "\n",
    "stocks = pd.read_csv(\"stocks/stocks_cleaned.csv\")\n",
    "x, y = stocks.drop([\"Name\", \"BSE Code\", \"NSE Code\", \"join_key\", \"t_1_price\"], axis=1), stocks[\"t_1_price\"]\n",
    "\n",
    "encoder = LabelEncoder()\n",
    "imputer = IterativeImputer(random_state=42)\n",
    "\n",
    "x['Industry'] = encoder.fit_transform(x['Industry'])\n",
    "x = pd.DataFrame(imputer.fit_transform(x), columns=x.columns)\n",
    "x[\"Graham\"] = (22.5 * x[\"EPS\"] * x[\"Book value\"]) ** 0.5\n",
    "x.Graham.fillna(0, inplace=True)"
   ]
  },
  {
   "cell_type": "markdown",
   "metadata": {},
   "source": [
    "## Feature importance and selection"
   ]
  },
  {
   "cell_type": "code",
   "execution_count": 56,
   "metadata": {},
   "outputs": [],
   "source": [
    "from sklearn.feature_selection import mutual_info_regression\n",
    "from sklearn.model_selection import cross_val_score\n",
    "from sklearn.linear_model import Ridge\n",
    "from matplotlib import pyplot as plt\n",
    "import seaborn as sns\n",
    "\n",
    "def score_dataset(x, y, model):\n",
    "    x = x.copy()\n",
    "    return cross_val_score(model, x, y).mean()\n",
    "\n",
    "def make_mi_scores(x, y):\n",
    "    x = x.copy()\n",
    "    discrete = x.dtypes == int\n",
    "    return pd.Series(mutual_info_regression(x, y, discrete_features=discrete, random_state=42), index=x.columns).sort_values(ascending=False)\n",
    "\n",
    "def plot_scores(scores, n, high=True):\n",
    "    plt.figure(figsize=(5, 5))\n",
    "    plt.title('Mutual Information')\n",
    "    if high:\n",
    "        sns.barplot(x=scores[:n], y=scores.index[:n])\n",
    "    else:\n",
    "        sns.barplot(x=scores[(-1 * n):], y=scores.index[(-1 * n):])\n",
    "    plt.ylabel('Features')\n",
    "    plt.xlabel('Score')"
   ]
  },
  {
   "cell_type": "code",
   "execution_count": 21,
   "metadata": {},
   "outputs": [
    {
     "data": {
      "image/png": "[encoded data removed]",
      "text/plain": [
       "<Figure size 500x500 with 1 Axes>"
      ]
     },
     "metadata": {},
     "output_type": "display_data"
    }
   ],
   "source": [
    "scores = make_mi_scores(x, y)\n",
    "plot_scores(scores, 10)"
   ]
  },
  {
   "cell_type": "code",
   "execution_count": 57,
   "metadata": {},
   "outputs": [
    {
     "data": {
      "text/plain": [
       "0.9766963179723595"
      ]
     },
     "execution_count": 57,
     "metadata": {},
     "output_type": "execute_result"
    }
   ],
   "source": [
    "features = scores[scores < 0.25].index\n",
    "x_temp = x.drop(features, axis=1)\n",
    "score_dataset(x_temp, y, Ridge(random_state=42))"
   ]
  },
  {
   "cell_type": "markdown",
   "metadata": {},
   "source": [
    "### Tuning of feature selection"
   ]
  },
  {
   "cell_type": "code",
   "execution_count": 67,
   "metadata": {},
   "outputs": [
    {
     "name": "stderr",
     "output_type": "stream",
     "text": [
      "[I 2024-07-23 19:34:47,424] A new study created in memory with name: no-name-f1e2050c-5e43-4f34-8882-a2a18d715978\n",
      "[I 2024-07-23 19:34:47,524] Trial 0 finished with value: 0.976775 and parameters: {'threshold': 0.25}. Best is trial 0 with value: 0.976775.\n",
      "[I 2024-07-23 19:34:47,592] Trial 1 finished with value: 0.983343 and parameters: {'threshold': 0.539846968020957}. Best is trial 1 with value: 0.983343.\n",
      "[I 2024-07-23 19:34:47,659] Trial 2 finished with value: 0.976511 and parameters: {'threshold': 0.31618720063053296}. Best is trial 1 with value: 0.983343.\n",
      "[I 2024-07-23 19:34:47,728] Trial 3 finished with value: 0.983343 and parameters: {'threshold': 0.5348052208299575}. Best is trial 1 with value: 0.983343.\n",
      "[I 2024-07-23 19:34:47,764] Trial 4 finished with value: 0.988583 and parameters: {'threshold': 0.7114465116099608}. Best is trial 4 with value: 0.988583.\n",
      "[I 2024-07-23 19:34:47,809] Trial 5 finished with value: 0.988583 and parameters: {'threshold': 0.7451790407295663}. Best is trial 4 with value: 0.988583.\n",
      "[I 2024-07-23 19:34:47,912] Trial 6 finished with value: 0.976551 and parameters: {'threshold': 0.34803013384768167}. Best is trial 4 with value: 0.988583.\n",
      "[I 2024-07-23 19:34:47,979] Trial 7 finished with value: 0.993625 and parameters: {'threshold': 0.5684177650142915}. Best is trial 7 with value: 0.993625.\n",
      "[I 2024-07-23 19:34:48,129] Trial 8 finished with value: 0.973845 and parameters: {'threshold': 0.365902358948373}. Best is trial 7 with value: 0.993625.\n",
      "[I 2024-07-23 19:34:48,174] Trial 9 finished with value: 0.988583 and parameters: {'threshold': 0.8273655217582349}. Best is trial 7 with value: 0.993625.\n",
      "[I 2024-07-23 19:34:48,447] Trial 10 finished with value: 0.975728 and parameters: {'threshold': 0.054490758247128845}. Best is trial 7 with value: 0.993625.\n",
      "[I 2024-07-23 19:34:48,511] Trial 11 finished with value: 0.994083 and parameters: {'threshold': 0.6876043747797829}. Best is trial 11 with value: 0.994083.\n",
      "[I 2024-07-23 19:34:48,577] Trial 12 finished with value: 0.99363 and parameters: {'threshold': 0.6445721561919481}. Best is trial 11 with value: 0.994083.\n",
      "[I 2024-07-23 19:34:48,644] Trial 13 finished with value: 0.988583 and parameters: {'threshold': 0.8933714053551911}. Best is trial 11 with value: 0.994083.\n",
      "[I 2024-07-23 19:34:48,693] Trial 14 finished with value: 0.99363 and parameters: {'threshold': 0.6549577656400486}. Best is trial 11 with value: 0.994083.\n",
      "[I 2024-07-23 19:34:48,757] Trial 15 finished with value: 0.99363 and parameters: {'threshold': 0.6576720565135218}. Best is trial 11 with value: 0.994083.\n",
      "[I 2024-07-23 19:34:48,801] Trial 16 finished with value: 0.988583 and parameters: {'threshold': 0.7910545435822955}. Best is trial 11 with value: 0.994083.\n",
      "[I 2024-07-23 19:34:48,862] Trial 17 finished with value: 0.974057 and parameters: {'threshold': 0.4685102664919846}. Best is trial 11 with value: 0.994083.\n",
      "[I 2024-07-23 19:34:48,927] Trial 18 finished with value: 0.99363 and parameters: {'threshold': 0.6306586091770439}. Best is trial 11 with value: 0.994083.\n",
      "[I 2024-07-23 19:34:49,213] Trial 19 finished with value: 0.976578 and parameters: {'threshold': 0.10925632742079133}. Best is trial 11 with value: 0.994083.\n",
      "[I 2024-07-23 19:34:49,261] Trial 20 finished with value: 0.988583 and parameters: {'threshold': 0.8966776211021463}. Best is trial 11 with value: 0.994083.\n",
      "[I 2024-07-23 19:34:49,320] Trial 21 finished with value: 0.99363 and parameters: {'threshold': 0.6405930981664721}. Best is trial 11 with value: 0.994083.\n",
      "[I 2024-07-23 19:34:49,410] Trial 22 finished with value: 0.974057 and parameters: {'threshold': 0.47034419503445923}. Best is trial 11 with value: 0.994083.\n",
      "[I 2024-07-23 19:34:49,470] Trial 23 finished with value: 0.988583 and parameters: {'threshold': 0.7316140523032627}. Best is trial 11 with value: 0.994083.\n",
      "[I 2024-07-23 19:34:49,517] Trial 24 finished with value: 0.993625 and parameters: {'threshold': 0.5773729345387701}. Best is trial 11 with value: 0.994083.\n",
      "[I 2024-07-23 19:34:49,576] Trial 25 finished with value: 0.994083 and parameters: {'threshold': 0.684892270383199}. Best is trial 11 with value: 0.994083.\n",
      "[I 2024-07-23 19:34:49,607] Trial 26 finished with value: 0.988583 and parameters: {'threshold': 0.7961116938139758}. Best is trial 11 with value: 0.994083.\n",
      "[I 2024-07-23 19:34:49,657] Trial 27 finished with value: 0.988583 and parameters: {'threshold': 0.6985479308756862}. Best is trial 11 with value: 0.994083.\n",
      "[I 2024-07-23 19:34:49,702] Trial 28 finished with value: 0.97384 and parameters: {'threshold': 0.4233469240673432}. Best is trial 11 with value: 0.994083.\n",
      "[I 2024-07-23 19:34:49,807] Trial 29 finished with value: 0.977069 and parameters: {'threshold': 0.20682840007881703}. Best is trial 11 with value: 0.994083.\n",
      "[I 2024-07-23 19:34:49,855] Trial 30 finished with value: 0.993625 and parameters: {'threshold': 0.5935883351207125}. Best is trial 11 with value: 0.994083.\n",
      "[I 2024-07-23 19:34:49,907] Trial 31 finished with value: 0.994083 and parameters: {'threshold': 0.6810630312741721}. Best is trial 11 with value: 0.994083.\n",
      "[I 2024-07-23 19:34:49,968] Trial 32 finished with value: 0.975405 and parameters: {'threshold': 0.5158756779377647}. Best is trial 11 with value: 0.994083.\n",
      "[I 2024-07-23 19:34:50,028] Trial 33 finished with value: 0.988583 and parameters: {'threshold': 0.7762469720293851}. Best is trial 11 with value: 0.994083.\n",
      "[I 2024-07-23 19:34:50,079] Trial 34 finished with value: 0.988583 and parameters: {'threshold': 0.6957553839135042}. Best is trial 11 with value: 0.994083.\n",
      "[I 2024-07-23 19:34:50,192] Trial 35 finished with value: 0.99363 and parameters: {'threshold': 0.6126929433960879}. Best is trial 11 with value: 0.994083.\n",
      "[I 2024-07-23 19:34:50,258] Trial 36 finished with value: 0.974162 and parameters: {'threshold': 0.5088249157870968}. Best is trial 11 with value: 0.994083.\n",
      "[I 2024-07-23 19:34:50,294] Trial 37 finished with value: 0.988583 and parameters: {'threshold': 0.8198652569983396}. Best is trial 11 with value: 0.994083.\n",
      "[I 2024-07-23 19:34:50,375] Trial 38 finished with value: 0.988583 and parameters: {'threshold': 0.7474494133168998}. Best is trial 11 with value: 0.994083.\n",
      "[I 2024-07-23 19:34:50,442] Trial 39 finished with value: 0.988583 and parameters: {'threshold': 0.8483823099474007}. Best is trial 11 with value: 0.994083.\n",
      "[I 2024-07-23 19:34:50,510] Trial 40 finished with value: 0.973639 and parameters: {'threshold': 0.6922611721561258}. Best is trial 11 with value: 0.994083.\n",
      "[I 2024-07-23 19:34:50,562] Trial 41 finished with value: 0.99363 and parameters: {'threshold': 0.6656855297716575}. Best is trial 11 with value: 0.994083.\n",
      "[I 2024-07-23 19:34:50,627] Trial 42 finished with value: 0.993625 and parameters: {'threshold': 0.5530123851730894}. Best is trial 11 with value: 0.994083.\n",
      "[I 2024-07-23 19:34:50,741] Trial 43 finished with value: 0.988583 and parameters: {'threshold': 0.7403958825979083}. Best is trial 11 with value: 0.994083.\n",
      "[I 2024-07-23 19:34:50,810] Trial 44 finished with value: 0.99363 and parameters: {'threshold': 0.6614083840203242}. Best is trial 11 with value: 0.994083.\n",
      "[I 2024-07-23 19:34:50,910] Trial 45 finished with value: 0.99362 and parameters: {'threshold': 0.6006724294479711}. Best is trial 11 with value: 0.994083.\n",
      "[I 2024-07-23 19:34:51,010] Trial 46 finished with value: 0.988583 and parameters: {'threshold': 0.7634881124044511}. Best is trial 11 with value: 0.994083.\n",
      "[I 2024-07-23 19:34:51,108] Trial 47 finished with value: 0.973845 and parameters: {'threshold': 0.40029123876345013}. Best is trial 11 with value: 0.994083.\n",
      "[I 2024-07-23 19:34:51,175] Trial 48 finished with value: 0.988583 and parameters: {'threshold': 0.8560945213310405}. Best is trial 11 with value: 0.994083.\n",
      "[I 2024-07-23 19:34:51,292] Trial 49 finished with value: 0.976349 and parameters: {'threshold': 0.275278869865899}. Best is trial 11 with value: 0.994083.\n",
      "[I 2024-07-23 19:34:51,376] Trial 50 finished with value: 0.993625 and parameters: {'threshold': 0.5593250736913398}. Best is trial 11 with value: 0.994083.\n",
      "[I 2024-07-23 19:34:51,458] Trial 51 finished with value: 0.99363 and parameters: {'threshold': 0.6495581420499434}. Best is trial 11 with value: 0.994083.\n",
      "[I 2024-07-23 19:34:51,524] Trial 52 finished with value: 0.99363 and parameters: {'threshold': 0.6730642502394306}. Best is trial 11 with value: 0.994083.\n",
      "[I 2024-07-23 19:34:51,733] Trial 53 finished with value: 0.988583 and parameters: {'threshold': 0.7149865633827688}. Best is trial 11 with value: 0.994083.\n",
      "[I 2024-07-23 19:34:51,786] Trial 54 finished with value: 0.99363 and parameters: {'threshold': 0.6079110834344819}. Best is trial 11 with value: 0.994083.\n",
      "[I 2024-07-23 19:34:51,857] Trial 55 finished with value: 0.974057 and parameters: {'threshold': 0.49948501260062506}. Best is trial 11 with value: 0.994083.\n",
      "[I 2024-07-23 19:34:51,915] Trial 56 finished with value: 0.99363 and parameters: {'threshold': 0.6183475685474163}. Best is trial 11 with value: 0.994083.\n",
      "[I 2024-07-23 19:34:51,967] Trial 57 finished with value: 0.988583 and parameters: {'threshold': 0.7239002301857509}. Best is trial 11 with value: 0.994083.\n",
      "[I 2024-07-23 19:34:52,020] Trial 58 finished with value: 0.99363 and parameters: {'threshold': 0.6418401346501534}. Best is trial 11 with value: 0.994083.\n",
      "[I 2024-07-23 19:34:52,106] Trial 59 finished with value: 0.983343 and parameters: {'threshold': 0.5378907846124387}. Best is trial 11 with value: 0.994083.\n",
      "[I 2024-07-23 19:34:52,156] Trial 60 finished with value: 0.988583 and parameters: {'threshold': 0.8049215087292146}. Best is trial 11 with value: 0.994083.\n",
      "[I 2024-07-23 19:34:52,213] Trial 61 finished with value: 0.99363 and parameters: {'threshold': 0.6281675604226796}. Best is trial 11 with value: 0.994083.\n",
      "[I 2024-07-23 19:34:52,262] Trial 62 finished with value: 0.973639 and parameters: {'threshold': 0.6941145694111739}. Best is trial 11 with value: 0.994083.\n",
      "[I 2024-07-23 19:34:52,341] Trial 63 finished with value: 0.993625 and parameters: {'threshold': 0.5792632162710395}. Best is trial 11 with value: 0.994083.\n",
      "[I 2024-07-23 19:34:52,387] Trial 64 finished with value: 0.988583 and parameters: {'threshold': 0.7649629358790405}. Best is trial 11 with value: 0.994083.\n",
      "[I 2024-07-23 19:34:52,441] Trial 65 finished with value: 0.99363 and parameters: {'threshold': 0.6740729894314369}. Best is trial 11 with value: 0.994083.\n",
      "[I 2024-07-23 19:34:52,496] Trial 66 finished with value: 0.99363 and parameters: {'threshold': 0.6421136785406707}. Best is trial 11 with value: 0.994083.\n",
      "[I 2024-07-23 19:34:52,545] Trial 67 finished with value: 0.988583 and parameters: {'threshold': 0.7160832198058225}. Best is trial 11 with value: 0.994083.\n",
      "[I 2024-07-23 19:34:52,599] Trial 68 finished with value: 0.974057 and parameters: {'threshold': 0.4652683463486367}. Best is trial 11 with value: 0.994083.\n",
      "[I 2024-07-23 19:34:52,647] Trial 69 finished with value: 0.993625 and parameters: {'threshold': 0.574639537684791}. Best is trial 11 with value: 0.994083.\n",
      "[I 2024-07-23 19:34:52,678] Trial 70 finished with value: 0.988583 and parameters: {'threshold': 0.7431590480435797}. Best is trial 11 with value: 0.994083.\n",
      "[I 2024-07-23 19:34:52,759] Trial 71 finished with value: 0.994083 and parameters: {'threshold': 0.6890789268446056}. Best is trial 11 with value: 0.994083.\n",
      "c:\\Users\\s1249057\\AppData\\Local\\Programs\\Python\\Python311\\Lib\\site-packages\\sklearn\\linear_model\\_ridge.py:204: LinAlgWarning: Ill-conditioned matrix (rcond=4.80203e-20): result may not be accurate.\n",
      "  return linalg.solve(A, Xy, assume_a=\"pos\", overwrite_a=True).T\n",
      "c:\\Users\\s1249057\\AppData\\Local\\Programs\\Python\\Python311\\Lib\\site-packages\\sklearn\\linear_model\\_ridge.py:204: LinAlgWarning: Ill-conditioned matrix (rcond=4.85986e-20): result may not be accurate.\n",
      "  return linalg.solve(A, Xy, assume_a=\"pos\", overwrite_a=True).T\n",
      "c:\\Users\\s1249057\\AppData\\Local\\Programs\\Python\\Python311\\Lib\\site-packages\\sklearn\\linear_model\\_ridge.py:204: LinAlgWarning: Ill-conditioned matrix (rcond=4.80438e-20): result may not be accurate.\n",
      "  return linalg.solve(A, Xy, assume_a=\"pos\", overwrite_a=True).T\n",
      "c:\\Users\\s1249057\\AppData\\Local\\Programs\\Python\\Python311\\Lib\\site-packages\\sklearn\\linear_model\\_ridge.py:204: LinAlgWarning: Ill-conditioned matrix (rcond=4.70398e-20): result may not be accurate.\n",
      "  return linalg.solve(A, Xy, assume_a=\"pos\", overwrite_a=True).T\n",
      "c:\\Users\\s1249057\\AppData\\Local\\Programs\\Python\\Python311\\Lib\\site-packages\\sklearn\\linear_model\\_ridge.py:204: LinAlgWarning: Ill-conditioned matrix (rcond=1.15884e-18): result may not be accurate.\n",
      "  return linalg.solve(A, Xy, assume_a=\"pos\", overwrite_a=True).T\n",
      "[I 2024-07-23 19:34:52,986] Trial 72 finished with value: 0.96625 and parameters: {'threshold': 0.004586908161577918}. Best is trial 11 with value: 0.994083.\n",
      "[I 2024-07-23 19:34:53,045] Trial 73 finished with value: 0.994083 and parameters: {'threshold': 0.6868774874329439}. Best is trial 11 with value: 0.994083.\n",
      "[I 2024-07-23 19:34:53,094] Trial 74 finished with value: 0.994083 and parameters: {'threshold': 0.6796239198199484}. Best is trial 11 with value: 0.994083.\n",
      "[I 2024-07-23 19:34:53,140] Trial 75 finished with value: 0.988583 and parameters: {'threshold': 0.7899786513850136}. Best is trial 11 with value: 0.994083.\n",
      "[I 2024-07-23 19:34:53,195] Trial 76 finished with value: 0.988583 and parameters: {'threshold': 0.6984925214232269}. Best is trial 11 with value: 0.994083.\n",
      "[I 2024-07-23 19:34:53,244] Trial 77 finished with value: 0.994083 and parameters: {'threshold': 0.6793015904366466}. Best is trial 11 with value: 0.994083.\n",
      "[I 2024-07-23 19:34:53,302] Trial 78 finished with value: 0.99363 and parameters: {'threshold': 0.6712875163259752}. Best is trial 11 with value: 0.994083.\n",
      "[I 2024-07-23 19:34:53,357] Trial 79 finished with value: 0.988583 and parameters: {'threshold': 0.8443746648095898}. Best is trial 11 with value: 0.994083.\n",
      "[I 2024-07-23 19:34:53,408] Trial 80 finished with value: 0.988583 and parameters: {'threshold': 0.7613436847712763}. Best is trial 11 with value: 0.994083.\n",
      "[I 2024-07-23 19:34:53,456] Trial 81 finished with value: 0.994083 and parameters: {'threshold': 0.6834735147984968}. Best is trial 11 with value: 0.994083.\n",
      "[I 2024-07-23 19:34:53,512] Trial 82 finished with value: 0.994083 and parameters: {'threshold': 0.6882905941912245}. Best is trial 11 with value: 0.994083.\n",
      "[I 2024-07-23 19:34:53,560] Trial 83 finished with value: 0.994083 and parameters: {'threshold': 0.6819830635945774}. Best is trial 11 with value: 0.994083.\n",
      "[I 2024-07-23 19:34:53,597] Trial 84 finished with value: 0.988583 and parameters: {'threshold': 0.715733536300343}. Best is trial 11 with value: 0.994083.\n",
      "[I 2024-07-23 19:34:53,626] Trial 85 finished with value: 0.988583 and parameters: {'threshold': 0.7307348652669525}. Best is trial 11 with value: 0.994083.\n",
      "[I 2024-07-23 19:34:53,679] Trial 86 finished with value: 0.99363 and parameters: {'threshold': 0.635711783126128}. Best is trial 11 with value: 0.994083.\n",
      "[I 2024-07-23 19:34:53,723] Trial 87 finished with value: 0.988583 and parameters: {'threshold': 0.7815068405035727}. Best is trial 11 with value: 0.994083.\n",
      "[I 2024-07-23 19:34:53,779] Trial 88 finished with value: 0.99362 and parameters: {'threshold': 0.6042495719190559}. Best is trial 11 with value: 0.994083.\n",
      "[I 2024-07-23 19:34:53,813] Trial 89 finished with value: 0.988583 and parameters: {'threshold': 0.7501750635109007}. Best is trial 11 with value: 0.994083.\n",
      "[I 2024-07-23 19:34:53,938] Trial 90 finished with value: 0.979702 and parameters: {'threshold': 0.16169830674138225}. Best is trial 11 with value: 0.994083.\n",
      "[I 2024-07-23 19:34:53,984] Trial 91 finished with value: 0.988583 and parameters: {'threshold': 0.6965909612379451}. Best is trial 11 with value: 0.994083.\n",
      "[I 2024-07-23 19:34:54,031] Trial 92 finished with value: 0.994084 and parameters: {'threshold': 0.6775112677500316}. Best is trial 92 with value: 0.994084.\n",
      "[I 2024-07-23 19:34:54,082] Trial 93 finished with value: 0.99363 and parameters: {'threshold': 0.6550289998798515}. Best is trial 92 with value: 0.994084.\n",
      "[I 2024-07-23 19:34:54,133] Trial 94 finished with value: 0.994084 and parameters: {'threshold': 0.6749859012481043}. Best is trial 92 with value: 0.994084.\n",
      "[I 2024-07-23 19:34:54,208] Trial 95 finished with value: 0.988583 and parameters: {'threshold': 0.7283379827536953}. Best is trial 92 with value: 0.994084.\n",
      "[I 2024-07-23 19:34:54,296] Trial 96 finished with value: 0.993625 and parameters: {'threshold': 0.5849322892230886}. Best is trial 92 with value: 0.994084.\n",
      "[I 2024-07-23 19:34:54,353] Trial 97 finished with value: 0.99363 and parameters: {'threshold': 0.6225253040483041}. Best is trial 92 with value: 0.994084.\n",
      "[I 2024-07-23 19:34:54,394] Trial 98 finished with value: 0.99363 and parameters: {'threshold': 0.6546241731988826}. Best is trial 92 with value: 0.994084.\n",
      "[I 2024-07-23 19:34:54,449] Trial 99 finished with value: 0.994084 and parameters: {'threshold': 0.6760627348503017}. Best is trial 92 with value: 0.994084.\n"
     ]
    },
    {
     "data": {
      "text/plain": [
       "FrozenTrial(number=92, state=1, values=[0.994084], datetime_start=datetime.datetime(2024, 7, 23, 19, 34, 53, 984949), datetime_complete=datetime.datetime(2024, 7, 23, 19, 34, 54, 31724), params={'threshold': 0.6775112677500316}, user_attrs={}, system_attrs={}, intermediate_values={}, distributions={'threshold': FloatDistribution(high=0.9, log=False, low=0.0, step=None)}, trial_id=92, value=None)"
      ]
     },
     "execution_count": 67,
     "metadata": {},
     "output_type": "execute_result"
    }
   ],
   "source": [
    "import optuna\n",
    "\n",
    "def objective(trial):\n",
    "    threshold = trial.suggest_float(\"threshold\", 0, 0.9)\n",
    "\n",
    "    features = scores[scores < threshold].index\n",
    "    x_temp = x.drop(features, axis=1)\n",
    "    \n",
    "    return round(score_dataset(x_temp, y, Ridge(random_state=42)), 6)\n",
    "\n",
    "study = optuna.create_study(direction=\"maximize\")\n",
    "study.enqueue_trial({\"threshold\": 0.25})\n",
    "study.optimize(objective, n_trials=100)\n",
    "study.best_trial"
   ]
  },
  {
   "cell_type": "code",
   "execution_count": 58,
   "metadata": {},
   "outputs": [
    {
     "data": {
      "text/plain": [
       "0.9940896905773056"
      ]
     },
     "execution_count": 58,
     "metadata": {},
     "output_type": "execute_result"
    }
   ],
   "source": [
    "threshold = 0.6775112677500316\n",
    "\n",
    "features = scores[scores < threshold].index\n",
    "x_new = x.drop(features, axis=1)\n",
    "score_dataset(x_new, y, Ridge(random_state=42))"
   ]
  },
  {
   "cell_type": "markdown",
   "metadata": {},
   "source": [
    "## Model fitting"
   ]
  },
  {
   "cell_type": "code",
   "execution_count": 59,
   "metadata": {},
   "outputs": [
    {
     "name": "stdout",
     "output_type": "stream",
     "text": [
      "MACD Signal: -0.24749079020506665\n",
      "DMA 200: -0.2033172440560217\n",
      "DMA 200 previous day: 0.1955277793771166\n",
      "MACD Signal Previous Day: -0.16980654011562576\n",
      "MACD: 0.06554209316688767\n",
      "DMA 50: 0.054484588127231094\n",
      "DMA 50 previous day: -0.048140070464957524\n",
      "Current Price: -0.011552411633995925\n",
      "Low price: 0.0020845505019675384\n",
      "High price: -0.001977112730099701\n",
      "High price all time: 7.681962102975244e-05\n"
     ]
    }
   ],
   "source": [
    "regressor = Ridge(random_state=42)\n",
    "regressor.fit(x_new, y)\n",
    "\n",
    "weights = regressor.coef_\n",
    "feature_importances = np.abs(weights)\n",
    "feature_importances = feature_importances / feature_importances.sum()\n",
    "importances = sorted([[name, importance] for name, importance in zip(x_new.columns, feature_importances)], key=lambda x: x[1], reverse=True)\n",
    "\n",
    "for i in range(len(importances)):\n",
    "    if weights[i] < 0:\n",
    "        importances[i][1] *= -1\n",
    "    print(importances[i][0] + \": \" + str(importances[i][1]))"
   ]
  },
  {
   "cell_type": "markdown",
   "metadata": {},
   "source": [
    "## Score the stocks by prediction error and growth"
   ]
  },
  {
   "cell_type": "code",
   "execution_count": 60,
   "metadata": {},
   "outputs": [],
   "source": [
    "x_temp = x_new.copy()\n",
    "x_temp.loc[:, \"Current Price\"] = y\n",
    "\n",
    "x_new[\"t_1_price_predicted\"] = regressor.predict(x_new)\n",
    "x_new[\"t_1_price_actual\"] = y\n",
    "\n",
    "x_new[\"error\"] = x_new.apply(lambda row: max(row['t_1_price_predicted'] - row['t_1_price_actual'], 0), axis=1) * 100 / x_new['t_1_price_actual']\n",
    "\n",
    "x_new[\"t_2_price\"] = regressor.predict(x_temp)\n",
    "x_new[\"growth\"] = (x_new[\"t_2_price\"] - x_new[\"Current Price\"]) * 100 / x_new[\"Current Price\"]\n",
    "\n",
    "x_new[\"score\"] = x_new[\"growth\"] - x_new[\"error\"]\n",
    "\n",
    "for col in [\"Graham\", \"Altman Z Score\", \"Piotroski score\"]:\n",
    "    x_new[col] = x[col]\n",
    "x_new[\"join_key\"] = stocks[\"join_key\"]"
   ]
  },
  {
   "cell_type": "markdown",
   "metadata": {},
   "source": [
    "## Save as prediction dataframe"
   ]
  },
  {
   "cell_type": "code",
   "execution_count": 61,
   "metadata": {},
   "outputs": [],
   "source": [
    "x_new.to_csv(\"stocks/prediction.csv\", index=False)"
   ]
  },
  {
   "cell_type": "code",
   "execution_count": 62,
   "metadata": {},
   "outputs": [],
   "source": [
    "df = pd.read_csv(\"stocks/prediction.csv\")"
   ]
  },
  {
   "cell_type": "markdown",
   "metadata": {},
   "source": [
    "## Shortlist stocks in four different ways and save as shortlist dataframe"
   ]
  },
  {
   "cell_type": "code",
   "execution_count": 63,
   "metadata": {},
   "outputs": [],
   "source": [
    "df[\"cumulative\"] = df[\"score\"] + df[\"MACD\"] - df[\"MACD Signal\"] + 0.1 * (df[\"Graham\"] - df[\"Current Price\"])"
   ]
  },
  {
   "cell_type": "code",
   "execution_count": 64,
   "metadata": {},
   "outputs": [],
   "source": [
    "shortlist1 = df[df.score > 30]\n",
    "\n",
    "shortlist2 = df[(df[\"Current Price\"] < df[\"Graham\"]) & (df[\"MACD\"] > df[\"MACD Signal\"]) & (df[\"score\"] > 15)]\n",
    "\n",
    "shortlist3 = df[(df[\"Altman Z Score\"] > 3) & (df[\"Piotroski score\"] >= 8) & (df[\"Graham\"] > df[\"Current Price\"]) & (df[\"MACD\"] > df[\"MACD Signal\"]) & (df[\"score\"] > 0)]\n",
    "\n",
    "shortlist4 = df[df[\"score\"] > 0].sort_values(by=\"cumulative\", ascending=False).iloc[:20, :]"
   ]
  },
  {
   "cell_type": "code",
   "execution_count": 65,
   "metadata": {},
   "outputs": [],
   "source": [
    "shortlist1.to_csv(\"shortlists/shortlist1.csv\", index=False)\n",
    "shortlist2.to_csv(\"shortlists/shortlist2.csv\", index=False)\n",
    "shortlist3.to_csv(\"shortlists/shortlist3.csv\", index=False)\n",
    "shortlist4.to_csv(\"shortlists/shortlist4.csv\", index=False)"
   ]
  },
  {
   "cell_type": "markdown",
   "metadata": {},
   "source": [
    "## Build portfolio proportionally by score, compute units to be bought and amount spent"
   ]
  },
  {
   "cell_type": "code",
   "execution_count": 71,
   "metadata": {},
   "outputs": [],
   "source": [
    "def portfolio(shortlist):\n",
    "    shortlist[\"units\"] = ((shortlist[\"score\"] * 1000000) / (shortlist[\"score\"].sum() * shortlist[\"Current Price\"])).round().astype(int)\n",
    "    shortlist[\"spent\"] = shortlist[\"units\"] * shortlist[\"Current Price\"]\n",
    "    shortlist[\"appreciation\"] = shortlist[\"spent\"] * (100 + shortlist[\"growth\"]) / 100\n",
    "    shortlist = shortlist[shortlist[\"units\"] != 0]\n",
    "    shortlist = shortlist[[\"join_key\", \"Current Price\", \"t_2_price\", \"score\", \"cumulative\", \"units\", \"spent\", \"appreciation\"]]\n",
    "    return shortlist\n",
    "\n",
    "portfolios = []\n",
    "for i in range(1, 5):\n",
    "    shortlist = pd.read_csv(f\"shortlists/shortlist{i}.csv\")\n",
    "    portfolios.append(portfolio(shortlist))"
   ]
  },
  {
   "cell_type": "code",
   "execution_count": 72,
   "metadata": {},
   "outputs": [
    {
     "data": {
      "text/html": [
       "<div>\n",
       "<style scoped>\n",
       "    .dataframe tbody tr th:only-of-type {\n",
       "        vertical-align: middle;\n",
       "    }\n",
       "\n",
       "    .dataframe tbody tr th {\n",
       "        vertical-align: top;\n",
       "    }\n",
       "\n",
       "    .dataframe thead th {\n",
       "        text-align: right;\n",
       "    }\n",
       "</style>\n",
       "<table border=\"1\" class=\"dataframe\">\n",
       "  <thead>\n",
       "    <tr style=\"text-align: right;\">\n",
       "      <th></th>\n",
       "      <th>join_key</th>\n",
       "      <th>Current Price</th>\n",
       "      <th>t_2_price</th>\n",
       "      <th>score</th>\n",
       "      <th>cumulative</th>\n",
       "      <th>units</th>\n",
       "      <th>spent</th>\n",
       "      <th>appreciation</th>\n",
       "    </tr>\n",
       "  </thead>\n",
       "  <tbody>\n",
       "    <tr>\n",
       "      <th>0</th>\n",
       "      <td>509470.0___NA__</td>\n",
       "      <td>35376.60</td>\n",
       "      <td>37808.013780</td>\n",
       "      <td>6.872944</td>\n",
       "      <td>2956.456876</td>\n",
       "      <td>1</td>\n",
       "      <td>35376.60</td>\n",
       "      <td>37808.013780</td>\n",
       "    </tr>\n",
       "    <tr>\n",
       "      <th>2</th>\n",
       "      <td>533095.0___NA__</td>\n",
       "      <td>8471.00</td>\n",
       "      <td>9101.297183</td>\n",
       "      <td>6.159210</td>\n",
       "      <td>1654.780172</td>\n",
       "      <td>4</td>\n",
       "      <td>33884.00</td>\n",
       "      <td>36405.188730</td>\n",
       "    </tr>\n",
       "    <tr>\n",
       "      <th>3</th>\n",
       "      <td>523204.0_ABAN</td>\n",
       "      <td>65.53</td>\n",
       "      <td>108.976381</td>\n",
       "      <td>2.120888</td>\n",
       "      <td>450.895381</td>\n",
       "      <td>165</td>\n",
       "      <td>10812.45</td>\n",
       "      <td>17981.102838</td>\n",
       "    </tr>\n",
       "    <tr>\n",
       "      <th>4</th>\n",
       "      <td>508670.0___NA__</td>\n",
       "      <td>4258.50</td>\n",
       "      <td>4775.743912</td>\n",
       "      <td>12.146153</td>\n",
       "      <td>411.667436</td>\n",
       "      <td>15</td>\n",
       "      <td>63877.50</td>\n",
       "      <td>71636.158686</td>\n",
       "    </tr>\n",
       "    <tr>\n",
       "      <th>5</th>\n",
       "      <td>533302.0_KICL</td>\n",
       "      <td>6479.40</td>\n",
       "      <td>6774.539643</td>\n",
       "      <td>3.349077</td>\n",
       "      <td>269.561010</td>\n",
       "      <td>3</td>\n",
       "      <td>19438.20</td>\n",
       "      <td>20323.618928</td>\n",
       "    </tr>\n",
       "    <tr>\n",
       "      <th>6</th>\n",
       "      <td>500780.0_ZUARIIND</td>\n",
       "      <td>409.80</td>\n",
       "      <td>452.809186</td>\n",
       "      <td>10.495165</td>\n",
       "      <td>243.406799</td>\n",
       "      <td>130</td>\n",
       "      <td>53274.00</td>\n",
       "      <td>58865.194204</td>\n",
       "    </tr>\n",
       "    <tr>\n",
       "      <th>7</th>\n",
       "      <td>526725.0_SANDESH</td>\n",
       "      <td>1553.05</td>\n",
       "      <td>1658.370204</td>\n",
       "      <td>6.781508</td>\n",
       "      <td>180.487749</td>\n",
       "      <td>22</td>\n",
       "      <td>34167.10</td>\n",
       "      <td>36484.144491</td>\n",
       "    </tr>\n",
       "    <tr>\n",
       "      <th>8</th>\n",
       "      <td>509845.0___NA__</td>\n",
       "      <td>597.95</td>\n",
       "      <td>710.177724</td>\n",
       "      <td>18.768747</td>\n",
       "      <td>164.016815</td>\n",
       "      <td>160</td>\n",
       "      <td>95672.00</td>\n",
       "      <td>113628.435802</td>\n",
       "    </tr>\n",
       "    <tr>\n",
       "      <th>9</th>\n",
       "      <td>526971.0___NA__</td>\n",
       "      <td>335.15</td>\n",
       "      <td>359.356087</td>\n",
       "      <td>6.425894</td>\n",
       "      <td>163.019718</td>\n",
       "      <td>98</td>\n",
       "      <td>32844.70</td>\n",
       "      <td>35216.896499</td>\n",
       "    </tr>\n",
       "    <tr>\n",
       "      <th>10</th>\n",
       "      <td>533303.0_BFINVEST</td>\n",
       "      <td>698.30</td>\n",
       "      <td>798.744538</td>\n",
       "      <td>14.384153</td>\n",
       "      <td>159.082827</td>\n",
       "      <td>105</td>\n",
       "      <td>73321.50</td>\n",
       "      <td>83868.176523</td>\n",
       "    </tr>\n",
       "    <tr>\n",
       "      <th>11</th>\n",
       "      <td>531310.0___NA__</td>\n",
       "      <td>275.00</td>\n",
       "      <td>280.360649</td>\n",
       "      <td>1.949327</td>\n",
       "      <td>140.318437</td>\n",
       "      <td>36</td>\n",
       "      <td>9900.00</td>\n",
       "      <td>10092.983352</td>\n",
       "    </tr>\n",
       "    <tr>\n",
       "      <th>12</th>\n",
       "      <td>523384.0_MAHAPEXLTD</td>\n",
       "      <td>169.05</td>\n",
       "      <td>197.739337</td>\n",
       "      <td>14.740340</td>\n",
       "      <td>130.224647</td>\n",
       "      <td>444</td>\n",
       "      <td>75058.20</td>\n",
       "      <td>87796.265806</td>\n",
       "    </tr>\n",
       "    <tr>\n",
       "      <th>13</th>\n",
       "      <td>511333.0_VLSFINANCE</td>\n",
       "      <td>304.35</td>\n",
       "      <td>357.737895</td>\n",
       "      <td>17.541612</td>\n",
       "      <td>124.344922</td>\n",
       "      <td>293</td>\n",
       "      <td>89174.55</td>\n",
       "      <td>104817.203353</td>\n",
       "    </tr>\n",
       "    <tr>\n",
       "      <th>14</th>\n",
       "      <td>524480.0___NA__</td>\n",
       "      <td>598.85</td>\n",
       "      <td>621.186014</td>\n",
       "      <td>3.269552</td>\n",
       "      <td>122.483758</td>\n",
       "      <td>28</td>\n",
       "      <td>16767.80</td>\n",
       "      <td>17393.208386</td>\n",
       "    </tr>\n",
       "    <tr>\n",
       "      <th>15</th>\n",
       "      <td>532468.0___NA__</td>\n",
       "      <td>2999.00</td>\n",
       "      <td>3457.700729</td>\n",
       "      <td>15.295123</td>\n",
       "      <td>121.794035</td>\n",
       "      <td>26</td>\n",
       "      <td>77974.00</td>\n",
       "      <td>89900.218942</td>\n",
       "    </tr>\n",
       "    <tr>\n",
       "      <th>16</th>\n",
       "      <td>509945.0___NA__</td>\n",
       "      <td>933.00</td>\n",
       "      <td>1054.655257</td>\n",
       "      <td>4.928871</td>\n",
       "      <td>111.324312</td>\n",
       "      <td>27</td>\n",
       "      <td>25191.00</td>\n",
       "      <td>28475.691938</td>\n",
       "    </tr>\n",
       "    <tr>\n",
       "      <th>17</th>\n",
       "      <td>539177.0_AIIL</td>\n",
       "      <td>1131.55</td>\n",
       "      <td>1370.645395</td>\n",
       "      <td>14.737120</td>\n",
       "      <td>92.012368</td>\n",
       "      <td>66</td>\n",
       "      <td>74682.30</td>\n",
       "      <td>90462.596094</td>\n",
       "    </tr>\n",
       "    <tr>\n",
       "      <th>18</th>\n",
       "      <td>500620.0_GESHIP</td>\n",
       "      <td>1227.70</td>\n",
       "      <td>1450.386622</td>\n",
       "      <td>18.138521</td>\n",
       "      <td>84.995625</td>\n",
       "      <td>75</td>\n",
       "      <td>92077.50</td>\n",
       "      <td>108778.996639</td>\n",
       "    </tr>\n",
       "    <tr>\n",
       "      <th>19</th>\n",
       "      <td>526881.0_63MOONS</td>\n",
       "      <td>379.40</td>\n",
       "      <td>439.048606</td>\n",
       "      <td>15.721825</td>\n",
       "      <td>69.454725</td>\n",
       "      <td>211</td>\n",
       "      <td>80053.40</td>\n",
       "      <td>92639.255849</td>\n",
       "    </tr>\n",
       "  </tbody>\n",
       "</table>\n",
       "</div>"
      ],
      "text/plain": [
       "               join_key  Current Price     t_2_price      score   cumulative  \\\n",
       "0       509470.0___NA__       35376.60  37808.013780   6.872944  2956.456876   \n",
       "2       533095.0___NA__        8471.00   9101.297183   6.159210  1654.780172   \n",
       "3         523204.0_ABAN          65.53    108.976381   2.120888   450.895381   \n",
       "4       508670.0___NA__        4258.50   4775.743912  12.146153   411.667436   \n",
       "5         533302.0_KICL        6479.40   6774.539643   3.349077   269.561010   \n",
       "6     500780.0_ZUARIIND         409.80    452.809186  10.495165   243.406799   \n",
       "7      526725.0_SANDESH        1553.05   1658.370204   6.781508   180.487749   \n",
       "8       509845.0___NA__         597.95    710.177724  18.768747   164.016815   \n",
       "9       526971.0___NA__         335.15    359.356087   6.425894   163.019718   \n",
       "10    533303.0_BFINVEST         698.30    798.744538  14.384153   159.082827   \n",
       "11      531310.0___NA__         275.00    280.360649   1.949327   140.318437   \n",
       "12  523384.0_MAHAPEXLTD         169.05    197.739337  14.740340   130.224647   \n",
       "13  511333.0_VLSFINANCE         304.35    357.737895  17.541612   124.344922   \n",
       "14      524480.0___NA__         598.85    621.186014   3.269552   122.483758   \n",
       "15      532468.0___NA__        2999.00   3457.700729  15.295123   121.794035   \n",
       "16      509945.0___NA__         933.00   1054.655257   4.928871   111.324312   \n",
       "17        539177.0_AIIL        1131.55   1370.645395  14.737120    92.012368   \n",
       "18      500620.0_GESHIP        1227.70   1450.386622  18.138521    84.995625   \n",
       "19     526881.0_63MOONS         379.40    439.048606  15.721825    69.454725   \n",
       "\n",
       "    units     spent   appreciation  \n",
       "0       1  35376.60   37808.013780  \n",
       "2       4  33884.00   36405.188730  \n",
       "3     165  10812.45   17981.102838  \n",
       "4      15  63877.50   71636.158686  \n",
       "5       3  19438.20   20323.618928  \n",
       "6     130  53274.00   58865.194204  \n",
       "7      22  34167.10   36484.144491  \n",
       "8     160  95672.00  113628.435802  \n",
       "9      98  32844.70   35216.896499  \n",
       "10    105  73321.50   83868.176523  \n",
       "11     36   9900.00   10092.983352  \n",
       "12    444  75058.20   87796.265806  \n",
       "13    293  89174.55  104817.203353  \n",
       "14     28  16767.80   17393.208386  \n",
       "15     26  77974.00   89900.218942  \n",
       "16     27  25191.00   28475.691938  \n",
       "17     66  74682.30   90462.596094  \n",
       "18     75  92077.50  108778.996639  \n",
       "19    211  80053.40   92639.255849  "
      ]
     },
     "execution_count": 72,
     "metadata": {},
     "output_type": "execute_result"
    }
   ],
   "source": [
    "portfolios[3]"
   ]
  },
  {
   "cell_type": "markdown",
   "metadata": {},
   "source": [
    "## Save as portfolio dataframe"
   ]
  },
  {
   "cell_type": "code",
   "execution_count": 73,
   "metadata": {},
   "outputs": [],
   "source": [
    "for i in range(4):\n",
    "    portfolios[i].to_csv(f\"portfolios/portfolio{i + 1}.csv\", index=False)"
   ]
  },
  {
   "cell_type": "markdown",
   "metadata": {},
   "source": [
    "# Estimate profit of each portfolio"
   ]
  },
  {
   "cell_type": "code",
   "execution_count": 74,
   "metadata": {},
   "outputs": [],
   "source": [
    "growth = {f\"portfolio_{i + 1}\": (portfolios[i].appreciation.sum() - portfolios[i].spent.sum()) * 100 / portfolios[i].spent.sum() for i in range(len(portfolios))}"
   ]
  },
  {
   "cell_type": "code",
   "execution_count": 75,
   "metadata": {},
   "outputs": [
    {
     "data": {
      "text/plain": [
       "{'portfolio_1': 33.29093704652035,\n",
       " 'portfolio_2': 17.759494837375748,\n",
       " 'portfolio_3': 10.375173428855186,\n",
       " 'portfolio_4': 14.999449531771678}"
      ]
     },
     "execution_count": 75,
     "metadata": {},
     "output_type": "execute_result"
    }
   ],
   "source": [
    "growth"
   ]
  }
 ],
 "metadata": {
  "kernelspec": {
   "display_name": "Python 3",
   "language": "python",
   "name": "python3"
  },
  "language_info": {
   "codemirror_mode": {
    "name": "ipython",
    "version": 3
   },
   "file_extension": ".py",
   "mimetype": "text/x-python",
   "name": "python",
   "nbconvert_exporter": "python",
   "pygments_lexer": "ipython3",
   "version": "3.11.8"
  }
 },
 "nbformat": 4,
 "nbformat_minor": 2
}
